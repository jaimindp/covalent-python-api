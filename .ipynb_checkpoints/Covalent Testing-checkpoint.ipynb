{
 "cells": [
  {
   "cell_type": "code",
   "execution_count": 1,
   "metadata": {},
   "outputs": [
    {
     "name": "stdout",
     "output_type": "stream",
     "text": [
      "Price of ETH at 2021-07-01: 2125.343 USD\n",
      "Price of ETH at 2021-07-02: 2162.1814 USD\n",
      "Price of ETH at 2021-07-03: 2232.2197 USD\n",
      "Price of ETH at 2021-07-04: 2327.9333 USD\n",
      "Price of ETH at 2021-07-05: 2214.7454 USD\n",
      "Price of ETH at 2021-07-06: 2321.024 USD\n",
      "Price of ETH at 2021-07-07: 2313.4983 USD\n",
      "Price of ETH at 2021-07-08: 2129.5142 USD\n",
      "Price of ETH at 2021-07-09: 2156.3992 USD\n",
      "Price of ETH at 2021-07-10: 2123.0964 USD\n",
      "Price of ETH at 2021-07-11: 2142.7864 USD\n",
      "Price of ETH at 2021-07-12: 2043.624 USD\n",
      "Price of ETH at 2021-07-13: 1943.5659 USD\n",
      "Price of ETH at 2021-07-14: 1998.3677 USD\n",
      "Price of ETH at 2021-07-15: 1908.8698 USD\n"
     ]
    }
   ],
   "source": [
    "# Importing the requests library\n",
    "import requests\n",
    "\n",
    "# Configuration\n",
    "API_KEY = \"ckey_edc1619f340849c6939fba54856\" # This is my apiKey\n",
    "CURRENCY = \"USD\" # Will get price in USD\n",
    "TICKET = \"ETH\" # Will check price of CQT in this sample\n",
    "FROM = \"2021-07-01\" # \n",
    "TO = \"2021-07-15\"\n",
    "# Document of Covalent API: https://www.covalenthq.com/docs/api/#get-/v1/pricing/historical/{quote_currency}/{ticker_symbol}/\n",
    "ENPOINT = \"https://api.covalenthq.com/v1/pricing/historical/{}/{}/\"\n",
    "URL = ENPOINT.format(CURRENCY, TICKET) \n",
    "\n",
    "# Put your apiKey to Get request\n",
    "PARAMS = {\"key\": API_KEY, \"from\": FROM, \"to\": TO, \"prices-at-asc\": \"true\"}\n",
    "\n",
    "# Sending GET request and saving the response as response object\n",
    "response = requests.get(url = URL, params = PARAMS)\n",
    "\n",
    "# Extracting data in json format\n",
    "data = response.json()\n",
    "\n",
    "if (data[\"error\"]):\n",
    "\t# There is error and print error_message to console\n",
    "\tprint(data[\"error_message\"])\n",
    "else:\n",
    "\tname = data[\"data\"][\"contract_name\"]\n",
    "\tticket = data[\"data\"][\"contract_ticker_symbol\"]\n",
    "\tprices = data[\"data\"][\"prices\"]\n",
    "\tfor item in prices:\n",
    "\t\t# Get date, and price\n",
    "\t\tdate = item[\"date\"]\n",
    "\t\tprice = item[\"price\"]\n",
    "\t\t# Print price and date\n",
    "\t\tprint(\"Price of ETH at {}: {} USD\".format(date, price))"
   ]
  },
  {
   "cell_type": "code",
   "execution_count": null,
   "metadata": {},
   "outputs": [],
   "source": []
  }
 ],
 "metadata": {
  "kernelspec": {
   "display_name": "venv",
   "language": "python",
   "name": "venv"
  },
  "language_info": {
   "codemirror_mode": {
    "name": "ipython",
    "version": 3
   },
   "file_extension": ".py",
   "mimetype": "text/x-python",
   "name": "python",
   "nbconvert_exporter": "python",
   "pygments_lexer": "ipython3",
   "version": "3.8.5"
  }
 },
 "nbformat": 4,
 "nbformat_minor": 4
}
